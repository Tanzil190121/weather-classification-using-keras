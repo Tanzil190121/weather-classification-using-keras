{
  "nbformat": 4,
  "nbformat_minor": 0,
  "metadata": {
    "colab": {
      "provenance": [],
      "gpuType": "T4"
    },
    "kernelspec": {
      "name": "python3",
      "display_name": "Python 3"
    },
    "language_info": {
      "name": "python"
    },
    "accelerator": "GPU"
  },
  "cells": [
    {
      "cell_type": "code",
      "execution_count": 1,
      "metadata": {
        "id": "G9CcFJJo-O-d"
      },
      "outputs": [],
      "source": [
        "from zipfile import ZipFile"
      ]
    },
    {
      "cell_type": "code",
      "source": [
        "with ZipFile(\"/content/drive/MyDrive/weather /archive (9).zip\",'r') as zipOBj:\n",
        "  zipOBj.extractall(\"/content/drive/MyDrive/weather \")\n"
      ],
      "metadata": {
        "id": "qhJqErQn-jSU"
      },
      "execution_count": 2,
      "outputs": []
    },
    {
      "cell_type": "code",
      "source": [
        "import os\n",
        "from PIL import Image\n",
        "\n",
        "def is_image(filename):\n",
        "    try:\n",
        "        img = Image.open(filename)\n",
        "        img.close()\n",
        "        return True\n",
        "    except:\n",
        "        return False\n",
        "\n",
        "def process_folder(folder_path):\n",
        "    for root, dirs, files in os.walk(folder_path):\n",
        "        for file in files:\n",
        "            file_path = os.path.join(root, file)\n",
        "            if not is_image(file_path) or not file.lower().endswith(('.png', '.jpg', '.jpeg', '.gif', '.bmp')):\n",
        "                print(f\"Deleting {file_path}\")\n",
        "                os.remove(file_path)\n",
        "\n",
        "if __name__ == \"__main__\":\n",
        "    target_folder = r\"/content/drive/MyDrive/weather /Weather Resized/Weather Resized\"\n",
        "    process_folder(target_folder)"
      ],
      "metadata": {
        "id": "yFGhILsz_DHc"
      },
      "execution_count": 5,
      "outputs": []
    },
    {
      "cell_type": "code",
      "source": [
        "len(\"/content/drive/MyDrive/weather /Weather Resized/Weather Resized/0\")"
      ],
      "metadata": {
        "colab": {
          "base_uri": "https://localhost:8080/"
        },
        "id": "myD0vQbH_Tsu",
        "outputId": "6d1c23ad-4139-4a64-938b-5105d3abcfb6"
      },
      "execution_count": 6,
      "outputs": [
        {
          "output_type": "execute_result",
          "data": {
            "text/plain": [
              "65"
            ]
          },
          "metadata": {},
          "execution_count": 6
        }
      ]
    },
    {
      "cell_type": "code",
      "source": [
        "from tensorflow.keras.preprocessing import image_dataset_from_directory"
      ],
      "metadata": {
        "id": "XV5QNzPZ_aB4"
      },
      "execution_count": 7,
      "outputs": []
    },
    {
      "cell_type": "code",
      "source": [
        "train_ds=image_dataset_from_directory(\n",
        "    \"/content/drive/MyDrive/weather /Weather Resized/Weather Resized\",\n",
        "    labels='inferred',\n",
        "    label_mode='int',\n",
        "    seed=1337,\n",
        "    color_mode='rgb',\n",
        "    image_size=(224,224),\n",
        "    batch_size=32,\n",
        "    validation_split=0.2,\n",
        "    subset='training',\n",
        "    shuffle=True\n",
        "\n",
        ")\n",
        "\n",
        "val_ds=image_dataset_from_directory(\n",
        "    \"/content/drive/MyDrive/weather /Weather Resized/Weather Resized\",\n",
        "    labels='inferred',\n",
        "    label_mode='int',\n",
        "    color_mode='rgb',\n",
        "    validation_split=0.2,\n",
        "    subset='validation',\n",
        "    image_size=(224,224),\n",
        "    batch_size=32,\n",
        "    shuffle=True,\n",
        "    seed=1337\n",
        "    )"
      ],
      "metadata": {
        "colab": {
          "base_uri": "https://localhost:8080/"
        },
        "id": "n384t8Cc_2Pd",
        "outputId": "c67bbafc-227f-4f35-87e3-ba876db0532d"
      },
      "execution_count": 9,
      "outputs": [
        {
          "output_type": "stream",
          "name": "stdout",
          "text": [
            "Found 1125 files belonging to 4 classes.\n",
            "Using 900 files for training.\n",
            "Found 1125 files belonging to 4 classes.\n",
            "Using 225 files for validation.\n"
          ]
        }
      ]
    },
    {
      "cell_type": "code",
      "source": [
        "import tensorflow as tf\n",
        "from tensorflow.keras.models import Sequential\n",
        "from tensorflow.keras.layers import Flatten,Dense,Conv2D,MaxPooling2D"
      ],
      "metadata": {
        "id": "4n0olOFCA-H-"
      },
      "execution_count": 10,
      "outputs": []
    },
    {
      "cell_type": "code",
      "source": [
        "\n",
        "image_size = (224, 224)  # Replace with actual image dimensions\n",
        "\n",
        "model = Sequential([\n",
        "    Conv2D(32, (3, 3), activation='relu', input_shape=(image_size[0], image_size[1], 3)),\n",
        "    MaxPooling2D(2, 2),\n",
        "    Conv2D(64, (3, 3), activation='relu'),  # Fixed 'reul' to 'relu'\n",
        "    MaxPooling2D(2, 2),\n",
        "    Conv2D(128, (3, 3), activation='relu'),  # Fixed 'activaton' to 'activation'\n",
        "    MaxPooling2D(2, 2),\n",
        "    Flatten(),\n",
        "    Dense(128, activation='relu'),\n",
        "    Dense(4, activation='softmax')\n",
        "])"
      ],
      "metadata": {
        "id": "PXY8s-lIBZ3I"
      },
      "execution_count": 11,
      "outputs": []
    },
    {
      "cell_type": "code",
      "source": [
        "model.compile(optimizer='adam',loss='sparse_categorical_crossentropy',metrics=['accuracy'])\n",
        "model.fit(train_ds,validation_data=val_ds,epochs=10)"
      ],
      "metadata": {
        "colab": {
          "base_uri": "https://localhost:8080/"
        },
        "id": "WezrRrRcCuXh",
        "outputId": "0caa9151-6041-406f-e576-c7cfedc7b5d8"
      },
      "execution_count": 12,
      "outputs": [
        {
          "output_type": "stream",
          "name": "stdout",
          "text": [
            "Epoch 1/10\n",
            "29/29 [==============================] - 15s 93ms/step - loss: 78.9728 - accuracy: 0.5311 - val_loss: 0.8721 - val_accuracy: 0.6756\n",
            "Epoch 2/10\n",
            "29/29 [==============================] - 3s 103ms/step - loss: 0.6628 - accuracy: 0.7611 - val_loss: 0.7070 - val_accuracy: 0.7644\n",
            "Epoch 3/10\n",
            "29/29 [==============================] - 3s 80ms/step - loss: 0.5772 - accuracy: 0.8044 - val_loss: 0.7086 - val_accuracy: 0.7600\n",
            "Epoch 4/10\n",
            "29/29 [==============================] - 3s 76ms/step - loss: 0.4971 - accuracy: 0.8322 - val_loss: 0.6854 - val_accuracy: 0.8356\n",
            "Epoch 5/10\n",
            "29/29 [==============================] - 3s 76ms/step - loss: 0.6664 - accuracy: 0.8267 - val_loss: 0.9686 - val_accuracy: 0.7600\n",
            "Epoch 6/10\n",
            "29/29 [==============================] - 3s 74ms/step - loss: 0.6778 - accuracy: 0.8056 - val_loss: 0.7224 - val_accuracy: 0.7644\n",
            "Epoch 7/10\n",
            "29/29 [==============================] - 4s 129ms/step - loss: 0.3053 - accuracy: 0.8856 - val_loss: 0.6190 - val_accuracy: 0.8000\n",
            "Epoch 8/10\n",
            "29/29 [==============================] - 3s 76ms/step - loss: 0.1616 - accuracy: 0.9467 - val_loss: 0.9326 - val_accuracy: 0.7867\n",
            "Epoch 9/10\n",
            "29/29 [==============================] - 3s 77ms/step - loss: 0.1561 - accuracy: 0.9533 - val_loss: 0.8089 - val_accuracy: 0.8089\n",
            "Epoch 10/10\n",
            "29/29 [==============================] - 3s 76ms/step - loss: 0.1245 - accuracy: 0.9589 - val_loss: 0.7752 - val_accuracy: 0.7956\n"
          ]
        },
        {
          "output_type": "execute_result",
          "data": {
            "text/plain": [
              "<keras.callbacks.History at 0x7dfe33d9be50>"
            ]
          },
          "metadata": {},
          "execution_count": 12
        }
      ]
    },
    {
      "cell_type": "code",
      "source": [],
      "metadata": {
        "id": "Nu6sCbk4DRVl"
      },
      "execution_count": null,
      "outputs": []
    }
  ]
}